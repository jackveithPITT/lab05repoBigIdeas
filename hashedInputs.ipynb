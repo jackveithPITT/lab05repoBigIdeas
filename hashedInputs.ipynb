{
 "cells": [
  {
   "cell_type": "code",
   "execution_count": 2,
   "metadata": {},
   "outputs": [
    {
     "name": "stdin",
     "output_type": "stream",
     "text": [
      "what is your name? Jack\n",
      "Jack, what is your most favorite number? w\n"
     ]
    },
    {
     "name": "stdout",
     "output_type": "stream",
     "text": [
      "Not a Number.\n"
     ]
    }
   ],
   "source": [
    "import hashlib\n",
    "\n",
    "name = input(\"what is your name?\")\n",
    "\n",
    "try:\n",
    "    num = int(input(name + \", what is your most favorite number?\"))\n",
    "    \n",
    "    string = name + str(num)\n",
    "\n",
    "    print(\"the SHA256 hash of \" + string + \" is: \" + hashlib.sha256(string.encode()).hexdigest())\n",
    "except:\n",
    "    print(\"Not a Number.\")\n"
   ]
  },
  {
   "cell_type": "code",
   "execution_count": null,
   "metadata": {},
   "outputs": [],
   "source": []
  }
 ],
 "metadata": {
  "kernelspec": {
   "display_name": "Python 3",
   "language": "python",
   "name": "python3"
  },
  "language_info": {
   "codemirror_mode": {
    "name": "ipython",
    "version": 3
   },
   "file_extension": ".py",
   "mimetype": "text/x-python",
   "name": "python",
   "nbconvert_exporter": "python",
   "pygments_lexer": "ipython3",
   "version": "3.8.3"
  }
 },
 "nbformat": 4,
 "nbformat_minor": 4
}
